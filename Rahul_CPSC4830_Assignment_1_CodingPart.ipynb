{
  "cells": [
    {
      "cell_type": "markdown",
      "id": "d0872fad",
      "metadata": {
        "id": "d0872fad"
      },
      "source": [
        "Assignment 1\n",
        "\n",
        "1.\tFit a linear regression model for the sklearn dataset California housing. In this task, you do not need to consider the interaction of the variables. (i.e. no X1X2 or X1X3, etc. in the model) You have to consider the following items:\n",
        "1a)\tData preprocessing: Correlation of the variables and VIF.\n",
        "\n",
        "Note: This question is only testing if you know how to perform Linear Regression. Error rate is not considered in this question.\n",
        "Part of the code will be provided to you.\n",
        "\n"
      ]
    },
    {
      "cell_type": "code",
      "execution_count": null,
      "id": "3cd36202",
      "metadata": {
        "colab": {
          "base_uri": "https://localhost:8080/"
        },
        "id": "3cd36202",
        "outputId": "11ddc5eb-c483-4a8d-f3df-4ba2de821076"
      },
      "outputs": [
        {
          "name": "stdout",
          "output_type": "stream",
          "text": [
            "dict_keys(['data', 'target', 'frame', 'target_names', 'feature_names', 'DESCR'])\n"
          ]
        },
        {
          "data": {
            "text/html": [
              "<div>\n",
              "<style scoped>\n",
              "    .dataframe tbody tr th:only-of-type {\n",
              "        vertical-align: middle;\n",
              "    }\n",
              "\n",
              "    .dataframe tbody tr th {\n",
              "        vertical-align: top;\n",
              "    }\n",
              "\n",
              "    .dataframe thead th {\n",
              "        text-align: right;\n",
              "    }\n",
              "</style>\n",
              "<table border=\"1\" class=\"dataframe\">\n",
              "  <thead>\n",
              "    <tr style=\"text-align: right;\">\n",
              "      <th></th>\n",
              "      <th>MedInc</th>\n",
              "      <th>HouseAge</th>\n",
              "      <th>AveRooms</th>\n",
              "      <th>AveBedrms</th>\n",
              "      <th>Population</th>\n",
              "      <th>AveOccup</th>\n",
              "      <th>Latitude</th>\n",
              "      <th>Longitude</th>\n",
              "      <th>target</th>\n",
              "    </tr>\n",
              "  </thead>\n",
              "  <tbody>\n",
              "    <tr>\n",
              "      <th>0</th>\n",
              "      <td>8.3252</td>\n",
              "      <td>41.0</td>\n",
              "      <td>6.984127</td>\n",
              "      <td>1.023810</td>\n",
              "      <td>322.0</td>\n",
              "      <td>2.555556</td>\n",
              "      <td>37.88</td>\n",
              "      <td>-122.23</td>\n",
              "      <td>4.526</td>\n",
              "    </tr>\n",
              "    <tr>\n",
              "      <th>1</th>\n",
              "      <td>8.3014</td>\n",
              "      <td>21.0</td>\n",
              "      <td>6.238137</td>\n",
              "      <td>0.971880</td>\n",
              "      <td>2401.0</td>\n",
              "      <td>2.109842</td>\n",
              "      <td>37.86</td>\n",
              "      <td>-122.22</td>\n",
              "      <td>3.585</td>\n",
              "    </tr>\n",
              "    <tr>\n",
              "      <th>2</th>\n",
              "      <td>7.2574</td>\n",
              "      <td>52.0</td>\n",
              "      <td>8.288136</td>\n",
              "      <td>1.073446</td>\n",
              "      <td>496.0</td>\n",
              "      <td>2.802260</td>\n",
              "      <td>37.85</td>\n",
              "      <td>-122.24</td>\n",
              "      <td>3.521</td>\n",
              "    </tr>\n",
              "    <tr>\n",
              "      <th>3</th>\n",
              "      <td>5.6431</td>\n",
              "      <td>52.0</td>\n",
              "      <td>5.817352</td>\n",
              "      <td>1.073059</td>\n",
              "      <td>558.0</td>\n",
              "      <td>2.547945</td>\n",
              "      <td>37.85</td>\n",
              "      <td>-122.25</td>\n",
              "      <td>3.413</td>\n",
              "    </tr>\n",
              "    <tr>\n",
              "      <th>4</th>\n",
              "      <td>3.8462</td>\n",
              "      <td>52.0</td>\n",
              "      <td>6.281853</td>\n",
              "      <td>1.081081</td>\n",
              "      <td>565.0</td>\n",
              "      <td>2.181467</td>\n",
              "      <td>37.85</td>\n",
              "      <td>-122.25</td>\n",
              "      <td>3.422</td>\n",
              "    </tr>\n",
              "  </tbody>\n",
              "</table>\n",
              "</div>"
            ],
            "text/plain": [
              "   MedInc  HouseAge  AveRooms  AveBedrms  Population  AveOccup  Latitude   \n",
              "0  8.3252      41.0  6.984127   1.023810       322.0  2.555556     37.88  \\\n",
              "1  8.3014      21.0  6.238137   0.971880      2401.0  2.109842     37.86   \n",
              "2  7.2574      52.0  8.288136   1.073446       496.0  2.802260     37.85   \n",
              "3  5.6431      52.0  5.817352   1.073059       558.0  2.547945     37.85   \n",
              "4  3.8462      52.0  6.281853   1.081081       565.0  2.181467     37.85   \n",
              "\n",
              "   Longitude  target  \n",
              "0    -122.23   4.526  \n",
              "1    -122.22   3.585  \n",
              "2    -122.24   3.521  \n",
              "3    -122.25   3.413  \n",
              "4    -122.25   3.422  "
            ]
          },
          "execution_count": 1,
          "metadata": {},
          "output_type": "execute_result"
        }
      ],
      "source": [
        "from sklearn import datasets\n",
        "data = datasets.fetch_california_housing()\n",
        "\n",
        "print(data.keys())\n",
        "#print(data.DESCR)\n",
        "\n",
        "# Import pandas\n",
        "import pandas as pd\n",
        "\n",
        "# display all columns\n",
        "pd.set_option('display.max_columns', None)\n",
        "\n",
        "# Read the DataFrame, first using the feature data\n",
        "df = pd.DataFrame(data.data, columns=data.feature_names)\n",
        "# Add a target column, and fill it with the target data\n",
        "df['target'] = data.target\n",
        "\n",
        "# Show the first five rows\n",
        "df.head()\n"
      ]
    },
    {
      "cell_type": "code",
      "execution_count": null,
      "id": "761bcb80",
      "metadata": {
        "id": "761bcb80",
        "outputId": "47ebbb27-956c-48f5-f842-49684da9ea89"
      },
      "outputs": [
        {
          "name": "stdout",
          "output_type": "stream",
          "text": [
            "<class 'pandas.core.frame.DataFrame'>\n",
            "RangeIndex: 20640 entries, 0 to 20639\n",
            "Data columns (total 9 columns):\n",
            " #   Column      Non-Null Count  Dtype  \n",
            "---  ------      --------------  -----  \n",
            " 0   MedInc      20640 non-null  float64\n",
            " 1   HouseAge    20640 non-null  float64\n",
            " 2   AveRooms    20640 non-null  float64\n",
            " 3   AveBedrms   20640 non-null  float64\n",
            " 4   Population  20640 non-null  float64\n",
            " 5   AveOccup    20640 non-null  float64\n",
            " 6   Latitude    20640 non-null  float64\n",
            " 7   Longitude   20640 non-null  float64\n",
            " 8   target      20640 non-null  float64\n",
            "dtypes: float64(9)\n",
            "memory usage: 1.4 MB\n",
            "Correlation of the dataset\n",
            "               MedInc  HouseAge  AveRooms  AveBedrms  Population  AveOccup   \n",
            "MedInc      1.000000 -0.119034  0.326895  -0.062040    0.004834  0.018766  \\\n",
            "HouseAge   -0.119034  1.000000 -0.153277  -0.077747   -0.296244  0.013191   \n",
            "AveRooms    0.326895 -0.153277  1.000000   0.847621   -0.072213 -0.004852   \n",
            "AveBedrms  -0.062040 -0.077747  0.847621   1.000000   -0.066197 -0.006181   \n",
            "Population  0.004834 -0.296244 -0.072213  -0.066197    1.000000  0.069863   \n",
            "AveOccup    0.018766  0.013191 -0.004852  -0.006181    0.069863  1.000000   \n",
            "Latitude   -0.079809  0.011173  0.106389   0.069721   -0.108785  0.002366   \n",
            "Longitude  -0.015176 -0.108197 -0.027540   0.013344    0.099773  0.002476   \n",
            "target      0.688075  0.105623  0.151948  -0.046701   -0.024650 -0.023737   \n",
            "\n",
            "            Latitude  Longitude    target  \n",
            "MedInc     -0.079809  -0.015176  0.688075  \n",
            "HouseAge    0.011173  -0.108197  0.105623  \n",
            "AveRooms    0.106389  -0.027540  0.151948  \n",
            "AveBedrms   0.069721   0.013344 -0.046701  \n",
            "Population -0.108785   0.099773 -0.024650  \n",
            "AveOccup    0.002366   0.002476 -0.023737  \n",
            "Latitude    1.000000  -0.924664 -0.144160  \n",
            "Longitude  -0.924664   1.000000 -0.045967  \n",
            "target     -0.144160  -0.045967  1.000000  \n"
          ]
        },
        {
          "data": {
            "text/html": [
              "<div>\n",
              "<style scoped>\n",
              "    .dataframe tbody tr th:only-of-type {\n",
              "        vertical-align: middle;\n",
              "    }\n",
              "\n",
              "    .dataframe tbody tr th {\n",
              "        vertical-align: top;\n",
              "    }\n",
              "\n",
              "    .dataframe thead th {\n",
              "        text-align: right;\n",
              "    }\n",
              "</style>\n",
              "<table border=\"1\" class=\"dataframe\">\n",
              "  <thead>\n",
              "    <tr style=\"text-align: right;\">\n",
              "      <th></th>\n",
              "      <th>Independent Features</th>\n",
              "      <th>VIF Scores</th>\n",
              "    </tr>\n",
              "  </thead>\n",
              "  <tbody>\n",
              "    <tr>\n",
              "      <th>0</th>\n",
              "      <td>MedInc</td>\n",
              "      <td>11.511140</td>\n",
              "    </tr>\n",
              "    <tr>\n",
              "      <th>1</th>\n",
              "      <td>HouseAge</td>\n",
              "      <td>7.195917</td>\n",
              "    </tr>\n",
              "    <tr>\n",
              "      <th>2</th>\n",
              "      <td>AveRooms</td>\n",
              "      <td>45.993601</td>\n",
              "    </tr>\n",
              "    <tr>\n",
              "      <th>3</th>\n",
              "      <td>AveBedrms</td>\n",
              "      <td>43.590314</td>\n",
              "    </tr>\n",
              "    <tr>\n",
              "      <th>4</th>\n",
              "      <td>Population</td>\n",
              "      <td>2.935745</td>\n",
              "    </tr>\n",
              "    <tr>\n",
              "      <th>5</th>\n",
              "      <td>AveOccup</td>\n",
              "      <td>1.095243</td>\n",
              "    </tr>\n",
              "    <tr>\n",
              "      <th>6</th>\n",
              "      <td>Latitude</td>\n",
              "      <td>559.874071</td>\n",
              "    </tr>\n",
              "    <tr>\n",
              "      <th>7</th>\n",
              "      <td>Longitude</td>\n",
              "      <td>633.711654</td>\n",
              "    </tr>\n",
              "  </tbody>\n",
              "</table>\n",
              "</div>"
            ],
            "text/plain": [
              "  Independent Features  VIF Scores\n",
              "0               MedInc   11.511140\n",
              "1             HouseAge    7.195917\n",
              "2             AveRooms   45.993601\n",
              "3            AveBedrms   43.590314\n",
              "4           Population    2.935745\n",
              "5             AveOccup    1.095243\n",
              "6             Latitude  559.874071\n",
              "7            Longitude  633.711654"
            ]
          },
          "execution_count": 2,
          "metadata": {},
          "output_type": "execute_result"
        }
      ],
      "source": [
        "# Show number of NULL count\n",
        "df.info()\n",
        "\n",
        "##########################################################\n",
        "## Correlation and VIF\n",
        "\n",
        "#VIF = Variance Inflation Factor\n",
        "\n",
        "print(\"Correlation of the dataset\\n\",df.corr())\n",
        "\n",
        "from statsmodels.stats.outliers_influence import variance_inflation_factor\n",
        "def vif_scores(df):\n",
        "    VIF_Scores = pd.DataFrame()\n",
        "    VIF_Scores[\"Independent Features\"] = df.columns\n",
        "    VIF_Scores[\"VIF Scores\"] = [variance_inflation_factor(df.values,i) for i in range(df.shape[1])]\n",
        "    return VIF_Scores\n",
        "df1 = df.iloc[:,:-1]\n",
        "vif_scores(df1)"
      ]
    },
    {
      "cell_type": "code",
      "execution_count": null,
      "id": "79DXGMKIiYXy",
      "metadata": {
        "colab": {
          "base_uri": "https://localhost:8080/",
          "height": 332
        },
        "id": "79DXGMKIiYXy",
        "outputId": "557a3c84-d59b-4c02-d550-70650abbfb77"
      },
      "outputs": [
        {
          "data": {
            "text/html": [
              "<div>\n",
              "<style scoped>\n",
              "    .dataframe tbody tr th:only-of-type {\n",
              "        vertical-align: middle;\n",
              "    }\n",
              "\n",
              "    .dataframe tbody tr th {\n",
              "        vertical-align: top;\n",
              "    }\n",
              "\n",
              "    .dataframe thead th {\n",
              "        text-align: right;\n",
              "    }\n",
              "</style>\n",
              "<table border=\"1\" class=\"dataframe\">\n",
              "  <thead>\n",
              "    <tr style=\"text-align: right;\">\n",
              "      <th></th>\n",
              "      <th>MedInc</th>\n",
              "      <th>HouseAge</th>\n",
              "      <th>AveRooms</th>\n",
              "      <th>AveBedrms</th>\n",
              "      <th>Population</th>\n",
              "      <th>AveOccup</th>\n",
              "      <th>Latitude</th>\n",
              "      <th>Longitude</th>\n",
              "      <th>target</th>\n",
              "    </tr>\n",
              "  </thead>\n",
              "  <tbody>\n",
              "    <tr>\n",
              "      <th>MedInc</th>\n",
              "      <td>1.000000</td>\n",
              "      <td>-0.119034</td>\n",
              "      <td>0.326895</td>\n",
              "      <td>-0.062040</td>\n",
              "      <td>0.004834</td>\n",
              "      <td>0.018766</td>\n",
              "      <td>-0.079809</td>\n",
              "      <td>-0.015176</td>\n",
              "      <td>0.688075</td>\n",
              "    </tr>\n",
              "    <tr>\n",
              "      <th>HouseAge</th>\n",
              "      <td>-0.119034</td>\n",
              "      <td>1.000000</td>\n",
              "      <td>-0.153277</td>\n",
              "      <td>-0.077747</td>\n",
              "      <td>-0.296244</td>\n",
              "      <td>0.013191</td>\n",
              "      <td>0.011173</td>\n",
              "      <td>-0.108197</td>\n",
              "      <td>0.105623</td>\n",
              "    </tr>\n",
              "    <tr>\n",
              "      <th>AveRooms</th>\n",
              "      <td>0.326895</td>\n",
              "      <td>-0.153277</td>\n",
              "      <td>1.000000</td>\n",
              "      <td>0.847621</td>\n",
              "      <td>-0.072213</td>\n",
              "      <td>-0.004852</td>\n",
              "      <td>0.106389</td>\n",
              "      <td>-0.027540</td>\n",
              "      <td>0.151948</td>\n",
              "    </tr>\n",
              "    <tr>\n",
              "      <th>AveBedrms</th>\n",
              "      <td>-0.062040</td>\n",
              "      <td>-0.077747</td>\n",
              "      <td>0.847621</td>\n",
              "      <td>1.000000</td>\n",
              "      <td>-0.066197</td>\n",
              "      <td>-0.006181</td>\n",
              "      <td>0.069721</td>\n",
              "      <td>0.013344</td>\n",
              "      <td>-0.046701</td>\n",
              "    </tr>\n",
              "    <tr>\n",
              "      <th>Population</th>\n",
              "      <td>0.004834</td>\n",
              "      <td>-0.296244</td>\n",
              "      <td>-0.072213</td>\n",
              "      <td>-0.066197</td>\n",
              "      <td>1.000000</td>\n",
              "      <td>0.069863</td>\n",
              "      <td>-0.108785</td>\n",
              "      <td>0.099773</td>\n",
              "      <td>-0.024650</td>\n",
              "    </tr>\n",
              "    <tr>\n",
              "      <th>AveOccup</th>\n",
              "      <td>0.018766</td>\n",
              "      <td>0.013191</td>\n",
              "      <td>-0.004852</td>\n",
              "      <td>-0.006181</td>\n",
              "      <td>0.069863</td>\n",
              "      <td>1.000000</td>\n",
              "      <td>0.002366</td>\n",
              "      <td>0.002476</td>\n",
              "      <td>-0.023737</td>\n",
              "    </tr>\n",
              "    <tr>\n",
              "      <th>Latitude</th>\n",
              "      <td>-0.079809</td>\n",
              "      <td>0.011173</td>\n",
              "      <td>0.106389</td>\n",
              "      <td>0.069721</td>\n",
              "      <td>-0.108785</td>\n",
              "      <td>0.002366</td>\n",
              "      <td>1.000000</td>\n",
              "      <td>-0.924664</td>\n",
              "      <td>-0.144160</td>\n",
              "    </tr>\n",
              "    <tr>\n",
              "      <th>Longitude</th>\n",
              "      <td>-0.015176</td>\n",
              "      <td>-0.108197</td>\n",
              "      <td>-0.027540</td>\n",
              "      <td>0.013344</td>\n",
              "      <td>0.099773</td>\n",
              "      <td>0.002476</td>\n",
              "      <td>-0.924664</td>\n",
              "      <td>1.000000</td>\n",
              "      <td>-0.045967</td>\n",
              "    </tr>\n",
              "    <tr>\n",
              "      <th>target</th>\n",
              "      <td>0.688075</td>\n",
              "      <td>0.105623</td>\n",
              "      <td>0.151948</td>\n",
              "      <td>-0.046701</td>\n",
              "      <td>-0.024650</td>\n",
              "      <td>-0.023737</td>\n",
              "      <td>-0.144160</td>\n",
              "      <td>-0.045967</td>\n",
              "      <td>1.000000</td>\n",
              "    </tr>\n",
              "  </tbody>\n",
              "</table>\n",
              "</div>"
            ],
            "text/plain": [
              "              MedInc  HouseAge  AveRooms  AveBedrms  Population  AveOccup   \n",
              "MedInc      1.000000 -0.119034  0.326895  -0.062040    0.004834  0.018766  \\\n",
              "HouseAge   -0.119034  1.000000 -0.153277  -0.077747   -0.296244  0.013191   \n",
              "AveRooms    0.326895 -0.153277  1.000000   0.847621   -0.072213 -0.004852   \n",
              "AveBedrms  -0.062040 -0.077747  0.847621   1.000000   -0.066197 -0.006181   \n",
              "Population  0.004834 -0.296244 -0.072213  -0.066197    1.000000  0.069863   \n",
              "AveOccup    0.018766  0.013191 -0.004852  -0.006181    0.069863  1.000000   \n",
              "Latitude   -0.079809  0.011173  0.106389   0.069721   -0.108785  0.002366   \n",
              "Longitude  -0.015176 -0.108197 -0.027540   0.013344    0.099773  0.002476   \n",
              "target      0.688075  0.105623  0.151948  -0.046701   -0.024650 -0.023737   \n",
              "\n",
              "            Latitude  Longitude    target  \n",
              "MedInc     -0.079809  -0.015176  0.688075  \n",
              "HouseAge    0.011173  -0.108197  0.105623  \n",
              "AveRooms    0.106389  -0.027540  0.151948  \n",
              "AveBedrms   0.069721   0.013344 -0.046701  \n",
              "Population -0.108785   0.099773 -0.024650  \n",
              "AveOccup    0.002366   0.002476 -0.023737  \n",
              "Latitude    1.000000  -0.924664 -0.144160  \n",
              "Longitude  -0.924664   1.000000 -0.045967  \n",
              "target     -0.144160  -0.045967  1.000000  "
            ]
          },
          "execution_count": 3,
          "metadata": {},
          "output_type": "execute_result"
        }
      ],
      "source": [
        "df.corr()"
      ]
    },
    {
      "cell_type": "code",
      "execution_count": null,
      "id": "XI7ARhJTjFPo",
      "metadata": {
        "colab": {
          "base_uri": "https://localhost:8080/"
        },
        "id": "XI7ARhJTjFPo",
        "outputId": "729e40e9-5f63-41b5-b3c5-7fb00fa3d64f"
      },
      "outputs": [
        {
          "name": "stdout",
          "output_type": "stream",
          "text": [
            "     Variable         VIF\n",
            "0      MedInc   19.624998\n",
            "1    HouseAge    7.592663\n",
            "2    AveRooms   47.956351\n",
            "3   AveBedrms   45.358192\n",
            "4  Population    2.936078\n",
            "5    AveOccup    1.099530\n",
            "6    Latitude  568.497332\n",
            "7   Longitude  640.064211\n",
            "8      target    9.285659\n"
          ]
        }
      ],
      "source": [
        "from statsmodels.stats.outliers_influence import variance_inflation_factor\n",
        "\n",
        "def vif_val(data_frame):\n",
        "    vif_attr = pd.DataFrame()\n",
        "    vif_attr[\"Variable\"] = data_frame.columns\n",
        "    vif_attr[\"VIF\"] = [variance_inflation_factor(data_frame.values, i) for i in range(data_frame.shape[1])]\n",
        "    return vif_attr\n",
        "\n",
        "vif_df = vif_val(df)\n",
        "print(vif_df)"
      ]
    },
    {
      "cell_type": "markdown",
      "id": "855116eb",
      "metadata": {
        "id": "855116eb"
      },
      "source": [
        "1b)\tStandardization of variables.\n"
      ]
    },
    {
      "cell_type": "code",
      "execution_count": null,
      "id": "e5086f30",
      "metadata": {
        "colab": {
          "base_uri": "https://localhost:8080/",
          "height": 206
        },
        "id": "e5086f30",
        "outputId": "c1c72899-d3eb-4738-bf25-ecfe89b9351d"
      },
      "outputs": [
        {
          "data": {
            "text/html": [
              "<div>\n",
              "<style scoped>\n",
              "    .dataframe tbody tr th:only-of-type {\n",
              "        vertical-align: middle;\n",
              "    }\n",
              "\n",
              "    .dataframe tbody tr th {\n",
              "        vertical-align: top;\n",
              "    }\n",
              "\n",
              "    .dataframe thead th {\n",
              "        text-align: right;\n",
              "    }\n",
              "</style>\n",
              "<table border=\"1\" class=\"dataframe\">\n",
              "  <thead>\n",
              "    <tr style=\"text-align: right;\">\n",
              "      <th></th>\n",
              "      <th>MedInc</th>\n",
              "      <th>HouseAge</th>\n",
              "      <th>AveRooms</th>\n",
              "      <th>AveBedrms</th>\n",
              "      <th>Population</th>\n",
              "      <th>AveOccup</th>\n",
              "      <th>Latitude</th>\n",
              "      <th>Longitude</th>\n",
              "      <th>target</th>\n",
              "    </tr>\n",
              "  </thead>\n",
              "  <tbody>\n",
              "    <tr>\n",
              "      <th>0</th>\n",
              "      <td>2.344766</td>\n",
              "      <td>0.982143</td>\n",
              "      <td>0.628559</td>\n",
              "      <td>-0.153758</td>\n",
              "      <td>-0.974429</td>\n",
              "      <td>-0.049597</td>\n",
              "      <td>1.052548</td>\n",
              "      <td>-1.327835</td>\n",
              "      <td>2.129631</td>\n",
              "    </tr>\n",
              "    <tr>\n",
              "      <th>1</th>\n",
              "      <td>2.332238</td>\n",
              "      <td>-0.607019</td>\n",
              "      <td>0.327041</td>\n",
              "      <td>-0.263336</td>\n",
              "      <td>0.861439</td>\n",
              "      <td>-0.092512</td>\n",
              "      <td>1.043185</td>\n",
              "      <td>-1.322844</td>\n",
              "      <td>1.314156</td>\n",
              "    </tr>\n",
              "    <tr>\n",
              "      <th>2</th>\n",
              "      <td>1.782699</td>\n",
              "      <td>1.856182</td>\n",
              "      <td>1.155620</td>\n",
              "      <td>-0.049016</td>\n",
              "      <td>-0.820777</td>\n",
              "      <td>-0.025843</td>\n",
              "      <td>1.038503</td>\n",
              "      <td>-1.332827</td>\n",
              "      <td>1.258693</td>\n",
              "    </tr>\n",
              "    <tr>\n",
              "      <th>3</th>\n",
              "      <td>0.932968</td>\n",
              "      <td>1.856182</td>\n",
              "      <td>0.156966</td>\n",
              "      <td>-0.049833</td>\n",
              "      <td>-0.766028</td>\n",
              "      <td>-0.050329</td>\n",
              "      <td>1.038503</td>\n",
              "      <td>-1.337818</td>\n",
              "      <td>1.165100</td>\n",
              "    </tr>\n",
              "    <tr>\n",
              "      <th>4</th>\n",
              "      <td>-0.012881</td>\n",
              "      <td>1.856182</td>\n",
              "      <td>0.344711</td>\n",
              "      <td>-0.032906</td>\n",
              "      <td>-0.759847</td>\n",
              "      <td>-0.085616</td>\n",
              "      <td>1.038503</td>\n",
              "      <td>-1.337818</td>\n",
              "      <td>1.172900</td>\n",
              "    </tr>\n",
              "  </tbody>\n",
              "</table>\n",
              "</div>"
            ],
            "text/plain": [
              "     MedInc  HouseAge  AveRooms  AveBedrms  Population  AveOccup  Latitude   \n",
              "0  2.344766  0.982143  0.628559  -0.153758   -0.974429 -0.049597  1.052548  \\\n",
              "1  2.332238 -0.607019  0.327041  -0.263336    0.861439 -0.092512  1.043185   \n",
              "2  1.782699  1.856182  1.155620  -0.049016   -0.820777 -0.025843  1.038503   \n",
              "3  0.932968  1.856182  0.156966  -0.049833   -0.766028 -0.050329  1.038503   \n",
              "4 -0.012881  1.856182  0.344711  -0.032906   -0.759847 -0.085616  1.038503   \n",
              "\n",
              "   Longitude    target  \n",
              "0  -1.327835  2.129631  \n",
              "1  -1.322844  1.314156  \n",
              "2  -1.332827  1.258693  \n",
              "3  -1.337818  1.165100  \n",
              "4  -1.337818  1.172900  "
            ]
          },
          "execution_count": 5,
          "metadata": {},
          "output_type": "execute_result"
        }
      ],
      "source": [
        "# Standardize columns\n",
        "from sklearn.preprocessing import StandardScaler\n",
        "\n",
        "feature_columns = df.columns[:]\n",
        "\n",
        "scaler = StandardScaler()\n",
        "\n",
        "df[feature_columns] = scaler.fit_transform(df[feature_columns])\n",
        "df.head()"
      ]
    },
    {
      "cell_type": "markdown",
      "id": "93e59f2c",
      "metadata": {
        "id": "93e59f2c"
      },
      "source": [
        "1c)\tSplit the data into training and testing datasets.\n"
      ]
    },
    {
      "cell_type": "code",
      "execution_count": null,
      "id": "dc0c9c02",
      "metadata": {
        "colab": {
          "base_uri": "https://localhost:8080/"
        },
        "id": "dc0c9c02",
        "outputId": "43cc6e75-b5d0-4566-b147-e6ae9cc4714a"
      },
      "outputs": [
        {
          "name": "stdout",
          "output_type": "stream",
          "text": [
            "Shape of X_train: (14448, 8)\n",
            "Shape of X_test: (6192, 8)\n",
            "Shape of y_train: (14448,)\n",
            "Shape of y_test: (6192,)\n"
          ]
        }
      ],
      "source": [
        "X = df.iloc[:,0:-1]\n",
        "y = df.iloc[:,-1]\n",
        "\n",
        "# split the data using Scikit-Learn's train_test_split\n",
        "from sklearn.model_selection import train_test_split\n",
        "\n",
        "X_train, X_test, y_train, y_test = train_test_split(X, y, test_size=0.3, random_state=1234)\n",
        "\n",
        "# Display the shapes of the resulting datasets\n",
        "print(\"Shape of X_train:\", X_train.shape)\n",
        "print(\"Shape of X_test:\", X_test.shape)\n",
        "print(\"Shape of y_train:\", y_train.shape)\n",
        "print(\"Shape of y_test:\", y_test.shape)\n"
      ]
    },
    {
      "cell_type": "markdown",
      "id": "4859dabf",
      "metadata": {
        "id": "4859dabf"
      },
      "source": [
        "1d)\tShow the model summary (i.e. include R-square, Adjusted R-squared, Coefficients etc.). Plot the Residual error."
      ]
    },
    {
      "cell_type": "code",
      "execution_count": null,
      "id": "92c68635",
      "metadata": {
        "colab": {
          "base_uri": "https://localhost:8080/",
          "height": 597
        },
        "id": "92c68635",
        "outputId": "aa657eda-08dd-4888-b112-de326b6411c5"
      },
      "outputs": [
        {
          "data": {
            "text/html": [
              "<table class=\"simpletable\">\n",
              "<caption>OLS Regression Results</caption>\n",
              "<tr>\n",
              "  <th>Dep. Variable:</th>         <td>target</td>      <th>  R-squared (uncentered):</th>      <td>   0.608</td> \n",
              "</tr>\n",
              "<tr>\n",
              "  <th>Model:</th>                   <td>OLS</td>       <th>  Adj. R-squared (uncentered):</th> <td>   0.608</td> \n",
              "</tr>\n",
              "<tr>\n",
              "  <th>Method:</th>             <td>Least Squares</td>  <th>  F-statistic:       </th>          <td>   2797.</td> \n",
              "</tr>\n",
              "<tr>\n",
              "  <th>Date:</th>             <td>Mon, 05 Feb 2024</td> <th>  Prob (F-statistic):</th>           <td>  0.00</td>  \n",
              "</tr>\n",
              "<tr>\n",
              "  <th>Time:</th>                 <td>02:19:49</td>     <th>  Log-Likelihood:    </th>          <td> -13738.</td> \n",
              "</tr>\n",
              "<tr>\n",
              "  <th>No. Observations:</th>      <td> 14448</td>      <th>  AIC:               </th>          <td>2.749e+04</td>\n",
              "</tr>\n",
              "<tr>\n",
              "  <th>Df Residuals:</th>          <td> 14440</td>      <th>  BIC:               </th>          <td>2.755e+04</td>\n",
              "</tr>\n",
              "<tr>\n",
              "  <th>Df Model:</th>              <td>     8</td>      <th>                     </th>              <td> </td>    \n",
              "</tr>\n",
              "<tr>\n",
              "  <th>Covariance Type:</th>      <td>nonrobust</td>    <th>                     </th>              <td> </td>    \n",
              "</tr>\n",
              "</table>\n",
              "<table class=\"simpletable\">\n",
              "<tr>\n",
              "       <td></td>         <th>coef</th>     <th>std err</th>      <th>t</th>      <th>P>|t|</th>  <th>[0.025</th>    <th>0.975]</th>  \n",
              "</tr>\n",
              "<tr>\n",
              "  <th>MedInc</th>     <td>    0.7282</td> <td>    0.008</td> <td>   87.219</td> <td> 0.000</td> <td>    0.712</td> <td>    0.745</td>\n",
              "</tr>\n",
              "<tr>\n",
              "  <th>HouseAge</th>   <td>    0.1050</td> <td>    0.006</td> <td>   18.078</td> <td> 0.000</td> <td>    0.094</td> <td>    0.116</td>\n",
              "</tr>\n",
              "<tr>\n",
              "  <th>AveRooms</th>   <td>   -0.2513</td> <td>    0.016</td> <td>  -16.211</td> <td> 0.000</td> <td>   -0.282</td> <td>   -0.221</td>\n",
              "</tr>\n",
              "<tr>\n",
              "  <th>AveBedrms</th>  <td>    0.2969</td> <td>    0.014</td> <td>   20.500</td> <td> 0.000</td> <td>    0.268</td> <td>    0.325</td>\n",
              "</tr>\n",
              "<tr>\n",
              "  <th>Population</th> <td>   -0.0031</td> <td>    0.006</td> <td>   -0.559</td> <td> 0.576</td> <td>   -0.014</td> <td>    0.008</td>\n",
              "</tr>\n",
              "<tr>\n",
              "  <th>AveOccup</th>   <td>   -0.0339</td> <td>    0.005</td> <td>   -7.075</td> <td> 0.000</td> <td>   -0.043</td> <td>   -0.025</td>\n",
              "</tr>\n",
              "<tr>\n",
              "  <th>Latitude</th>   <td>   -0.7635</td> <td>    0.016</td> <td>  -47.829</td> <td> 0.000</td> <td>   -0.795</td> <td>   -0.732</td>\n",
              "</tr>\n",
              "<tr>\n",
              "  <th>Longitude</th>  <td>   -0.7406</td> <td>    0.016</td> <td>  -47.144</td> <td> 0.000</td> <td>   -0.771</td> <td>   -0.710</td>\n",
              "</tr>\n",
              "</table>\n",
              "<table class=\"simpletable\">\n",
              "<tr>\n",
              "  <th>Omnibus:</th>       <td>2901.548</td> <th>  Durbin-Watson:     </th> <td>   1.994</td>\n",
              "</tr>\n",
              "<tr>\n",
              "  <th>Prob(Omnibus):</th>  <td> 0.000</td>  <th>  Jarque-Bera (JB):  </th> <td>7932.534</td>\n",
              "</tr>\n",
              "<tr>\n",
              "  <th>Skew:</th>           <td> 1.075</td>  <th>  Prob(JB):          </th> <td>    0.00</td>\n",
              "</tr>\n",
              "<tr>\n",
              "  <th>Kurtosis:</th>       <td> 5.925</td>  <th>  Cond. No.          </th> <td>    6.69</td>\n",
              "</tr>\n",
              "</table><br/><br/>Notes:<br/>[1] R² is computed without centering (uncentered) since the model does not contain a constant.<br/>[2] Standard Errors assume that the covariance matrix of the errors is correctly specified."
            ],
            "text/latex": [
              "\\begin{center}\n",
              "\\begin{tabular}{lclc}\n",
              "\\toprule\n",
              "\\textbf{Dep. Variable:}    &      target      & \\textbf{  R-squared (uncentered):}      &     0.608   \\\\\n",
              "\\textbf{Model:}            &       OLS        & \\textbf{  Adj. R-squared (uncentered):} &     0.608   \\\\\n",
              "\\textbf{Method:}           &  Least Squares   & \\textbf{  F-statistic:       }          &     2797.   \\\\\n",
              "\\textbf{Date:}             & Mon, 05 Feb 2024 & \\textbf{  Prob (F-statistic):}          &     0.00    \\\\\n",
              "\\textbf{Time:}             &     02:19:49     & \\textbf{  Log-Likelihood:    }          &   -13738.   \\\\\n",
              "\\textbf{No. Observations:} &       14448      & \\textbf{  AIC:               }          & 2.749e+04   \\\\\n",
              "\\textbf{Df Residuals:}     &       14440      & \\textbf{  BIC:               }          & 2.755e+04   \\\\\n",
              "\\textbf{Df Model:}         &           8      & \\textbf{                     }          &             \\\\\n",
              "\\textbf{Covariance Type:}  &    nonrobust     & \\textbf{                     }          &             \\\\\n",
              "\\bottomrule\n",
              "\\end{tabular}\n",
              "\\begin{tabular}{lcccccc}\n",
              "                    & \\textbf{coef} & \\textbf{std err} & \\textbf{t} & \\textbf{P$> |$t$|$} & \\textbf{[0.025} & \\textbf{0.975]}  \\\\\n",
              "\\midrule\n",
              "\\textbf{MedInc}     &       0.7282  &        0.008     &    87.219  &         0.000        &        0.712    &        0.745     \\\\\n",
              "\\textbf{HouseAge}   &       0.1050  &        0.006     &    18.078  &         0.000        &        0.094    &        0.116     \\\\\n",
              "\\textbf{AveRooms}   &      -0.2513  &        0.016     &   -16.211  &         0.000        &       -0.282    &       -0.221     \\\\\n",
              "\\textbf{AveBedrms}  &       0.2969  &        0.014     &    20.500  &         0.000        &        0.268    &        0.325     \\\\\n",
              "\\textbf{Population} &      -0.0031  &        0.006     &    -0.559  &         0.576        &       -0.014    &        0.008     \\\\\n",
              "\\textbf{AveOccup}   &      -0.0339  &        0.005     &    -7.075  &         0.000        &       -0.043    &       -0.025     \\\\\n",
              "\\textbf{Latitude}   &      -0.7635  &        0.016     &   -47.829  &         0.000        &       -0.795    &       -0.732     \\\\\n",
              "\\textbf{Longitude}  &      -0.7406  &        0.016     &   -47.144  &         0.000        &       -0.771    &       -0.710     \\\\\n",
              "\\bottomrule\n",
              "\\end{tabular}\n",
              "\\begin{tabular}{lclc}\n",
              "\\textbf{Omnibus:}       & 2901.548 & \\textbf{  Durbin-Watson:     } &    1.994  \\\\\n",
              "\\textbf{Prob(Omnibus):} &   0.000  & \\textbf{  Jarque-Bera (JB):  } & 7932.534  \\\\\n",
              "\\textbf{Skew:}          &   1.075  & \\textbf{  Prob(JB):          } &     0.00  \\\\\n",
              "\\textbf{Kurtosis:}      &   5.925  & \\textbf{  Cond. No.          } &     6.69  \\\\\n",
              "\\bottomrule\n",
              "\\end{tabular}\n",
              "%\\caption{OLS Regression Results}\n",
              "\\end{center}\n",
              "\n",
              "Notes: \\newline\n",
              " [1] R² is computed without centering (uncentered) since the model does not contain a constant. \\newline\n",
              " [2] Standard Errors assume that the covariance matrix of the errors is correctly specified."
            ],
            "text/plain": [
              "<class 'statsmodels.iolib.summary.Summary'>\n",
              "\"\"\"\n",
              "                                 OLS Regression Results                                \n",
              "=======================================================================================\n",
              "Dep. Variable:                 target   R-squared (uncentered):                   0.608\n",
              "Model:                            OLS   Adj. R-squared (uncentered):              0.608\n",
              "Method:                 Least Squares   F-statistic:                              2797.\n",
              "Date:                Mon, 05 Feb 2024   Prob (F-statistic):                        0.00\n",
              "Time:                        02:19:49   Log-Likelihood:                         -13738.\n",
              "No. Observations:               14448   AIC:                                  2.749e+04\n",
              "Df Residuals:                   14440   BIC:                                  2.755e+04\n",
              "Df Model:                           8                                                  \n",
              "Covariance Type:            nonrobust                                                  \n",
              "==============================================================================\n",
              "                 coef    std err          t      P>|t|      [0.025      0.975]\n",
              "------------------------------------------------------------------------------\n",
              "MedInc         0.7282      0.008     87.219      0.000       0.712       0.745\n",
              "HouseAge       0.1050      0.006     18.078      0.000       0.094       0.116\n",
              "AveRooms      -0.2513      0.016    -16.211      0.000      -0.282      -0.221\n",
              "AveBedrms      0.2969      0.014     20.500      0.000       0.268       0.325\n",
              "Population    -0.0031      0.006     -0.559      0.576      -0.014       0.008\n",
              "AveOccup      -0.0339      0.005     -7.075      0.000      -0.043      -0.025\n",
              "Latitude      -0.7635      0.016    -47.829      0.000      -0.795      -0.732\n",
              "Longitude     -0.7406      0.016    -47.144      0.000      -0.771      -0.710\n",
              "==============================================================================\n",
              "Omnibus:                     2901.548   Durbin-Watson:                   1.994\n",
              "Prob(Omnibus):                  0.000   Jarque-Bera (JB):             7932.534\n",
              "Skew:                           1.075   Prob(JB):                         0.00\n",
              "Kurtosis:                       5.925   Cond. No.                         6.69\n",
              "==============================================================================\n",
              "\n",
              "Notes:\n",
              "[1] R² is computed without centering (uncentered) since the model does not contain a constant.\n",
              "[2] Standard Errors assume that the covariance matrix of the errors is correctly specified.\n",
              "\"\"\""
            ]
          },
          "execution_count": 7,
          "metadata": {},
          "output_type": "execute_result"
        }
      ],
      "source": [
        "import matplotlib.pyplot as plt\n",
        "from sklearn import linear_model\n",
        "\n",
        "\n",
        "\n",
        "\n",
        "import statsmodels.api as sm\n",
        "\n",
        "model = sm.OLS(y_train, X_train).fit()\n",
        "model.summary()\n"
      ]
    },
    {
      "cell_type": "code",
      "execution_count": null,
      "id": "pieMO4uso3rD",
      "metadata": {
        "colab": {
          "base_uri": "https://localhost:8080/",
          "height": 564
        },
        "id": "pieMO4uso3rD",
        "outputId": "17fe47d1-3922-475a-e1c1-ccee4dd17b07"
      },
      "outputs": [
        {
          "data": {
            "image/png": "[encoded data removed]",
            "text/plain": [
              "<Figure size 800x600 with 1 Axes>"
            ]
          },
          "metadata": {},
          "output_type": "display_data"
        }
      ],
      "source": [
        "y_pred = model.predict(X_test)\n",
        "residuals = y_test - y_pred\n",
        "plt.figure(figsize=(8, 6))\n",
        "plt.scatter(y_test, residuals)\n",
        "plt.axhline(y=0, color='r', linestyle='--', linewidth=2)\n",
        "plt.title('Residual Plot')\n",
        "plt.xlabel('Actual Values')\n",
        "plt.ylabel('Residuals')\n",
        "plt.show()"
      ]
    },
    {
      "cell_type": "markdown",
      "id": "ef42e2c9",
      "metadata": {
        "id": "ef42e2c9"
      },
      "source": [
        "1e)\tBy backward elimination, select the features by using Ridge regularization.\n"
      ]
    },
    {
      "cell_type": "code",
      "execution_count": null,
      "id": "f52b4b9b",
      "metadata": {
        "colab": {
          "base_uri": "https://localhost:8080/"
        },
        "id": "f52b4b9b",
        "outputId": "d164206a-3560-4686-cf4d-a842ce7ab75e"
      },
      "outputs": [
        {
          "name": "stdout",
          "output_type": "stream",
          "text": [
            "Optimal alpha: 10.0\n",
            "Feature Importance:\n",
            "       Feature  Importance\n",
            "6    Latitude    0.756064\n",
            "7   Longitude    0.733113\n",
            "0      MedInc    0.727654\n",
            "3   AveBedrms    0.294015\n",
            "2    AveRooms    0.249213\n",
            "1    HouseAge    0.105802\n",
            "5    AveOccup    0.033892\n",
            "4  Population    0.002870\n"
          ]
        }
      ],
      "source": [
        "from sklearn.linear_model import RidgeCV\n",
        "\n",
        "alpha_val = [0.1, 1.0, 10.0]\n",
        "ridge_cv_val = RidgeCV(alphas=alpha_val, store_cv_values=True)\n",
        "\n",
        "ridge_cv_val.fit(X_train, y_train)\n",
        "\n",
        "optimal_alpha_val = ridge_cv_val.alpha_\n",
        "print(\"Optimal alpha:\", optimal_alpha_val)\n",
        "\n",
        "coefficients_val = ridge_cv_val.coef_\n",
        "feature_importance_val = abs(coefficients_val)\n",
        "\n",
        "feature_importance_df = pd.DataFrame({'Feature': X.columns, 'Importance': feature_importance_val})\n",
        "feature_importance_df = feature_importance_df.sort_values(by='Importance', ascending=False)\n",
        "print(\"Feature Importance:\\n\",feature_importance_df)\n"
      ]
    },
    {
      "cell_type": "markdown",
      "id": "cf869ac3",
      "metadata": {
        "id": "cf869ac3"
      },
      "source": [
        "1f) By backward elimination, select the features by using LASSO regularization."
      ]
    },
    {
      "cell_type": "code",
      "execution_count": null,
      "id": "db4139d1",
      "metadata": {
        "colab": {
          "base_uri": "https://localhost:8080/"
        },
        "id": "db4139d1",
        "outputId": "0db67b2f-de6c-46ce-e499-cf655a9e5d9c"
      },
      "outputs": [
        {
          "name": "stdout",
          "output_type": "stream",
          "text": [
            "Optimal alpha: 0.1\n",
            "Selected Features:\n",
            " Index(['MedInc', 'HouseAge'], dtype='object')\n"
          ]
        }
      ],
      "source": [
        "from sklearn.linear_model import LassoCV\n",
        "\n",
        "lasso_cv_val = LassoCV(alphas=alpha_val, cv=5)\n",
        "\n",
        "lasso_cv_val.fit(X_train, y_train)\n",
        "\n",
        "optimal_alpha_val = lasso_cv_val.alpha_\n",
        "print(\"Optimal alpha:\", optimal_alpha_val)\n",
        "\n",
        "coefficients_lcv_val = lasso_cv_val.coef_\n",
        "selected_features_lcv = X.columns[coefficients_lcv_val != 0]\n",
        "\n",
        "print(\"Selected Features:\\n\",selected_features_lcv)\n"
      ]
    },
    {
      "cell_type": "markdown",
      "id": "88b00e9d",
      "metadata": {
        "id": "88b00e9d"
      },
      "source": [
        "Q2. Fit a logistic regression model for the sklearn dataset Breast Cancer. In this task, you do not need to consider the interaction of the variables. (i.e. no X1X2 or X1X3, etc. in the model) You have to consider the following items:\n",
        "2a)\tData preprocessing: Correlation of the variables and VIF.\n",
        "\n",
        "Note: This question is only testing if you know how to perform Logistic Regression. Error rate is not considered in this question.\n",
        "Part of the code will be provided to you.\n"
      ]
    },
    {
      "cell_type": "code",
      "execution_count": null,
      "id": "5e0c6046",
      "metadata": {
        "colab": {
          "base_uri": "https://localhost:8080/",
          "height": 478
        },
        "id": "5e0c6046",
        "outputId": "84df2bd6-c43c-48fb-914d-52081901a6ee"
      },
      "outputs": [
        {
          "data": {
            "text/plain": [
              "Index(['mean radius', 'mean texture', 'mean perimeter', 'mean area',\n",
              "       'mean smoothness', 'mean compactness', 'mean concavity',\n",
              "       'mean concave points', 'mean symmetry', 'mean fractal dimension',\n",
              "       'radius error', 'texture error', 'perimeter error', 'area error',\n",
              "       'smoothness error', 'compactness error', 'concavity error',\n",
              "       'concave points error', 'symmetry error', 'fractal dimension error',\n",
              "       'worst radius', 'worst texture', 'worst perimeter', 'worst area',\n",
              "       'worst smoothness', 'worst compactness', 'worst concavity',\n",
              "       'worst concave points', 'worst symmetry', 'worst fractal dimension'],\n",
              "      dtype='object')"
            ]
          },
          "execution_count": 11,
          "metadata": {},
          "output_type": "execute_result"
        }
      ],
      "source": [
        "from sklearn import datasets\n",
        "data = datasets.load_breast_cancer()\n",
        "\n",
        "## Correlation and VIF\n",
        "\n",
        "pd.set_option('display.max_columns', None)\n",
        "\n",
        "df1 = pd.DataFrame(data.data, columns=data.feature_names)\n",
        "df1.columns"
      ]
    },
    {
      "cell_type": "code",
      "execution_count": null,
      "id": "6DSIbFOgCYh8",
      "metadata": {
        "colab": {
          "base_uri": "https://localhost:8080/",
          "height": 332
        },
        "id": "6DSIbFOgCYh8",
        "outputId": "a2ef294c-c4d3-4191-d80b-4813bdffe4e8"
      },
      "outputs": [
        {
          "data": {
            "text/html": [
              "<div>\n",
              "<style scoped>\n",
              "    .dataframe tbody tr th:only-of-type {\n",
              "        vertical-align: middle;\n",
              "    }\n",
              "\n",
              "    .dataframe tbody tr th {\n",
              "        vertical-align: top;\n",
              "    }\n",
              "\n",
              "    .dataframe thead th {\n",
              "        text-align: right;\n",
              "    }\n",
              "</style>\n",
              "<table border=\"1\" class=\"dataframe\">\n",
              "  <thead>\n",
              "    <tr style=\"text-align: right;\">\n",
              "      <th></th>\n",
              "      <th>MedInc</th>\n",
              "      <th>HouseAge</th>\n",
              "      <th>AveRooms</th>\n",
              "      <th>AveBedrms</th>\n",
              "      <th>Population</th>\n",
              "      <th>AveOccup</th>\n",
              "      <th>Latitude</th>\n",
              "      <th>Longitude</th>\n",
              "      <th>target</th>\n",
              "    </tr>\n",
              "  </thead>\n",
              "  <tbody>\n",
              "    <tr>\n",
              "      <th>MedInc</th>\n",
              "      <td>1.000000</td>\n",
              "      <td>-0.119034</td>\n",
              "      <td>0.326895</td>\n",
              "      <td>-0.062040</td>\n",
              "      <td>0.004834</td>\n",
              "      <td>0.018766</td>\n",
              "      <td>-0.079809</td>\n",
              "      <td>-0.015176</td>\n",
              "      <td>0.688075</td>\n",
              "    </tr>\n",
              "    <tr>\n",
              "      <th>HouseAge</th>\n",
              "      <td>-0.119034</td>\n",
              "      <td>1.000000</td>\n",
              "      <td>-0.153277</td>\n",
              "      <td>-0.077747</td>\n",
              "      <td>-0.296244</td>\n",
              "      <td>0.013191</td>\n",
              "      <td>0.011173</td>\n",
              "      <td>-0.108197</td>\n",
              "      <td>0.105623</td>\n",
              "    </tr>\n",
              "    <tr>\n",
              "      <th>AveRooms</th>\n",
              "      <td>0.326895</td>\n",
              "      <td>-0.153277</td>\n",
              "      <td>1.000000</td>\n",
              "      <td>0.847621</td>\n",
              "      <td>-0.072213</td>\n",
              "      <td>-0.004852</td>\n",
              "      <td>0.106389</td>\n",
              "      <td>-0.027540</td>\n",
              "      <td>0.151948</td>\n",
              "    </tr>\n",
              "    <tr>\n",
              "      <th>AveBedrms</th>\n",
              "      <td>-0.062040</td>\n",
              "      <td>-0.077747</td>\n",
              "      <td>0.847621</td>\n",
              "      <td>1.000000</td>\n",
              "      <td>-0.066197</td>\n",
              "      <td>-0.006181</td>\n",
              "      <td>0.069721</td>\n",
              "      <td>0.013344</td>\n",
              "      <td>-0.046701</td>\n",
              "    </tr>\n",
              "    <tr>\n",
              "      <th>Population</th>\n",
              "      <td>0.004834</td>\n",
              "      <td>-0.296244</td>\n",
              "      <td>-0.072213</td>\n",
              "      <td>-0.066197</td>\n",
              "      <td>1.000000</td>\n",
              "      <td>0.069863</td>\n",
              "      <td>-0.108785</td>\n",
              "      <td>0.099773</td>\n",
              "      <td>-0.024650</td>\n",
              "    </tr>\n",
              "    <tr>\n",
              "      <th>AveOccup</th>\n",
              "      <td>0.018766</td>\n",
              "      <td>0.013191</td>\n",
              "      <td>-0.004852</td>\n",
              "      <td>-0.006181</td>\n",
              "      <td>0.069863</td>\n",
              "      <td>1.000000</td>\n",
              "      <td>0.002366</td>\n",
              "      <td>0.002476</td>\n",
              "      <td>-0.023737</td>\n",
              "    </tr>\n",
              "    <tr>\n",
              "      <th>Latitude</th>\n",
              "      <td>-0.079809</td>\n",
              "      <td>0.011173</td>\n",
              "      <td>0.106389</td>\n",
              "      <td>0.069721</td>\n",
              "      <td>-0.108785</td>\n",
              "      <td>0.002366</td>\n",
              "      <td>1.000000</td>\n",
              "      <td>-0.924664</td>\n",
              "      <td>-0.144160</td>\n",
              "    </tr>\n",
              "    <tr>\n",
              "      <th>Longitude</th>\n",
              "      <td>-0.015176</td>\n",
              "      <td>-0.108197</td>\n",
              "      <td>-0.027540</td>\n",
              "      <td>0.013344</td>\n",
              "      <td>0.099773</td>\n",
              "      <td>0.002476</td>\n",
              "      <td>-0.924664</td>\n",
              "      <td>1.000000</td>\n",
              "      <td>-0.045967</td>\n",
              "    </tr>\n",
              "    <tr>\n",
              "      <th>target</th>\n",
              "      <td>0.688075</td>\n",
              "      <td>0.105623</td>\n",
              "      <td>0.151948</td>\n",
              "      <td>-0.046701</td>\n",
              "      <td>-0.024650</td>\n",
              "      <td>-0.023737</td>\n",
              "      <td>-0.144160</td>\n",
              "      <td>-0.045967</td>\n",
              "      <td>1.000000</td>\n",
              "    </tr>\n",
              "  </tbody>\n",
              "</table>\n",
              "</div>"
            ],
            "text/plain": [
              "              MedInc  HouseAge  AveRooms  AveBedrms  Population  AveOccup   \n",
              "MedInc      1.000000 -0.119034  0.326895  -0.062040    0.004834  0.018766  \\\n",
              "HouseAge   -0.119034  1.000000 -0.153277  -0.077747   -0.296244  0.013191   \n",
              "AveRooms    0.326895 -0.153277  1.000000   0.847621   -0.072213 -0.004852   \n",
              "AveBedrms  -0.062040 -0.077747  0.847621   1.000000   -0.066197 -0.006181   \n",
              "Population  0.004834 -0.296244 -0.072213  -0.066197    1.000000  0.069863   \n",
              "AveOccup    0.018766  0.013191 -0.004852  -0.006181    0.069863  1.000000   \n",
              "Latitude   -0.079809  0.011173  0.106389   0.069721   -0.108785  0.002366   \n",
              "Longitude  -0.015176 -0.108197 -0.027540   0.013344    0.099773  0.002476   \n",
              "target      0.688075  0.105623  0.151948  -0.046701   -0.024650 -0.023737   \n",
              "\n",
              "            Latitude  Longitude    target  \n",
              "MedInc     -0.079809  -0.015176  0.688075  \n",
              "HouseAge    0.011173  -0.108197  0.105623  \n",
              "AveRooms    0.106389  -0.027540  0.151948  \n",
              "AveBedrms   0.069721   0.013344 -0.046701  \n",
              "Population -0.108785   0.099773 -0.024650  \n",
              "AveOccup    0.002366   0.002476 -0.023737  \n",
              "Latitude    1.000000  -0.924664 -0.144160  \n",
              "Longitude  -0.924664   1.000000 -0.045967  \n",
              "target     -0.144160  -0.045967  1.000000  "
            ]
          },
          "execution_count": 12,
          "metadata": {},
          "output_type": "execute_result"
        }
      ],
      "source": [
        "#correlation\n",
        "df.corr()"
      ]
    },
    {
      "cell_type": "code",
      "execution_count": null,
      "id": "yiC5O8rMCjIU",
      "metadata": {
        "colab": {
          "base_uri": "https://localhost:8080/"
        },
        "id": "yiC5O8rMCjIU",
        "outputId": "f57090ab-7ca9-408c-8d5a-fbb26a9b61d3"
      },
      "outputs": [
        {
          "name": "stdout",
          "output_type": "stream",
          "text": [
            "                   Variable           VIF\n",
            "0               mean radius  63306.172036\n",
            "1              mean texture    251.047108\n",
            "2            mean perimeter  58123.586079\n",
            "3                 mean area   1287.262339\n",
            "4           mean smoothness    393.398166\n",
            "5          mean compactness    200.980354\n",
            "6            mean concavity    157.855046\n",
            "7       mean concave points    154.241268\n",
            "8             mean symmetry    184.426558\n",
            "9    mean fractal dimension    629.679874\n",
            "10             radius error    236.665738\n",
            "11            texture error     24.675367\n",
            "12          perimeter error    211.396334\n",
            "13               area error     72.466468\n",
            "14         smoothness error     26.170243\n",
            "15        compactness error     44.919651\n",
            "16          concavity error     33.244099\n",
            "17     concave points error     53.698656\n",
            "18           symmetry error     37.176452\n",
            "19  fractal dimension error     27.532631\n",
            "20             worst radius   9674.742602\n",
            "21            worst texture    343.004387\n",
            "22          worst perimeter   4487.781270\n",
            "23               worst area   1138.759252\n",
            "24         worst smoothness    375.597155\n",
            "25        worst compactness    132.884276\n",
            "26          worst concavity     86.310362\n",
            "27     worst concave points    148.673180\n",
            "28           worst symmetry    218.919805\n",
            "29  worst fractal dimension    423.396723\n"
          ]
        }
      ],
      "source": [
        "#VIF\n",
        "\n",
        "vif_df1 = vif_val(df1)\n",
        "print(vif_df1)"
      ]
    },
    {
      "cell_type": "markdown",
      "id": "2696c04f",
      "metadata": {
        "id": "2696c04f"
      },
      "source": [
        "2b)\tDo you need to do Standardization for all variables?\n"
      ]
    },
    {
      "cell_type": "markdown",
      "id": "127313a2",
      "metadata": {
        "id": "127313a2"
      },
      "source": [
        "## Study data here\n",
        "\n",
        "Yes, as we have average and mean values it is best suited to apply standardization to all variables to ensure all variables are on same scale."
      ]
    },
    {
      "cell_type": "markdown",
      "id": "a06efb60",
      "metadata": {
        "id": "a06efb60"
      },
      "source": [
        "2c)\tInclude all variables?\n"
      ]
    },
    {
      "cell_type": "code",
      "execution_count": null,
      "id": "a2e956e2",
      "metadata": {
        "colab": {
          "base_uri": "https://localhost:8080/",
          "height": 261
        },
        "id": "a2e956e2",
        "outputId": "608aacb7-8a62-4ac1-8246-97f8145a1fa8"
      },
      "outputs": [
        {
          "data": {
            "text/html": [
              "<div>\n",
              "<style scoped>\n",
              "    .dataframe tbody tr th:only-of-type {\n",
              "        vertical-align: middle;\n",
              "    }\n",
              "\n",
              "    .dataframe tbody tr th {\n",
              "        vertical-align: top;\n",
              "    }\n",
              "\n",
              "    .dataframe thead th {\n",
              "        text-align: right;\n",
              "    }\n",
              "</style>\n",
              "<table border=\"1\" class=\"dataframe\">\n",
              "  <thead>\n",
              "    <tr style=\"text-align: right;\">\n",
              "      <th></th>\n",
              "      <th>mean radius</th>\n",
              "      <th>mean texture</th>\n",
              "      <th>mean perimeter</th>\n",
              "      <th>mean area</th>\n",
              "      <th>mean smoothness</th>\n",
              "      <th>mean compactness</th>\n",
              "      <th>mean concavity</th>\n",
              "      <th>mean concave points</th>\n",
              "      <th>mean symmetry</th>\n",
              "      <th>mean fractal dimension</th>\n",
              "      <th>radius error</th>\n",
              "      <th>texture error</th>\n",
              "      <th>perimeter error</th>\n",
              "      <th>area error</th>\n",
              "      <th>smoothness error</th>\n",
              "      <th>compactness error</th>\n",
              "      <th>concavity error</th>\n",
              "      <th>concave points error</th>\n",
              "      <th>symmetry error</th>\n",
              "      <th>fractal dimension error</th>\n",
              "      <th>worst radius</th>\n",
              "      <th>worst texture</th>\n",
              "      <th>worst perimeter</th>\n",
              "      <th>worst area</th>\n",
              "      <th>worst smoothness</th>\n",
              "      <th>worst compactness</th>\n",
              "      <th>worst concavity</th>\n",
              "      <th>worst concave points</th>\n",
              "      <th>worst symmetry</th>\n",
              "      <th>worst fractal dimension</th>\n",
              "    </tr>\n",
              "  </thead>\n",
              "  <tbody>\n",
              "    <tr>\n",
              "      <th>0</th>\n",
              "      <td>1.097064</td>\n",
              "      <td>-2.073335</td>\n",
              "      <td>1.269934</td>\n",
              "      <td>0.984375</td>\n",
              "      <td>1.568466</td>\n",
              "      <td>3.283515</td>\n",
              "      <td>2.652874</td>\n",
              "      <td>2.532475</td>\n",
              "      <td>2.217515</td>\n",
              "      <td>2.255747</td>\n",
              "      <td>2.489734</td>\n",
              "      <td>-0.565265</td>\n",
              "      <td>2.833031</td>\n",
              "      <td>2.487578</td>\n",
              "      <td>-0.214002</td>\n",
              "      <td>1.316862</td>\n",
              "      <td>0.724026</td>\n",
              "      <td>0.660820</td>\n",
              "      <td>1.148757</td>\n",
              "      <td>0.907083</td>\n",
              "      <td>1.886690</td>\n",
              "      <td>-1.359293</td>\n",
              "      <td>2.303601</td>\n",
              "      <td>2.001237</td>\n",
              "      <td>1.307686</td>\n",
              "      <td>2.616665</td>\n",
              "      <td>2.109526</td>\n",
              "      <td>2.296076</td>\n",
              "      <td>2.750622</td>\n",
              "      <td>0.11890</td>\n",
              "    </tr>\n",
              "    <tr>\n",
              "      <th>1</th>\n",
              "      <td>1.829821</td>\n",
              "      <td>-0.353632</td>\n",
              "      <td>1.685955</td>\n",
              "      <td>1.908708</td>\n",
              "      <td>-0.826962</td>\n",
              "      <td>-0.487072</td>\n",
              "      <td>-0.023846</td>\n",
              "      <td>0.548144</td>\n",
              "      <td>0.001392</td>\n",
              "      <td>-0.868652</td>\n",
              "      <td>0.499255</td>\n",
              "      <td>-0.876244</td>\n",
              "      <td>0.263327</td>\n",
              "      <td>0.742402</td>\n",
              "      <td>-0.605351</td>\n",
              "      <td>-0.692926</td>\n",
              "      <td>-0.440780</td>\n",
              "      <td>0.260162</td>\n",
              "      <td>-0.805450</td>\n",
              "      <td>-0.099444</td>\n",
              "      <td>1.805927</td>\n",
              "      <td>-0.369203</td>\n",
              "      <td>1.535126</td>\n",
              "      <td>1.890489</td>\n",
              "      <td>-0.375612</td>\n",
              "      <td>-0.430444</td>\n",
              "      <td>-0.146749</td>\n",
              "      <td>1.087084</td>\n",
              "      <td>-0.243890</td>\n",
              "      <td>0.08902</td>\n",
              "    </tr>\n",
              "    <tr>\n",
              "      <th>2</th>\n",
              "      <td>1.579888</td>\n",
              "      <td>0.456187</td>\n",
              "      <td>1.566503</td>\n",
              "      <td>1.558884</td>\n",
              "      <td>0.942210</td>\n",
              "      <td>1.052926</td>\n",
              "      <td>1.363478</td>\n",
              "      <td>2.037231</td>\n",
              "      <td>0.939685</td>\n",
              "      <td>-0.398008</td>\n",
              "      <td>1.228676</td>\n",
              "      <td>-0.780083</td>\n",
              "      <td>0.850928</td>\n",
              "      <td>1.181336</td>\n",
              "      <td>-0.297005</td>\n",
              "      <td>0.814974</td>\n",
              "      <td>0.213076</td>\n",
              "      <td>1.424827</td>\n",
              "      <td>0.237036</td>\n",
              "      <td>0.293559</td>\n",
              "      <td>1.511870</td>\n",
              "      <td>-0.023974</td>\n",
              "      <td>1.347475</td>\n",
              "      <td>1.456285</td>\n",
              "      <td>0.527407</td>\n",
              "      <td>1.082932</td>\n",
              "      <td>0.854974</td>\n",
              "      <td>1.955000</td>\n",
              "      <td>1.152255</td>\n",
              "      <td>0.08758</td>\n",
              "    </tr>\n",
              "    <tr>\n",
              "      <th>3</th>\n",
              "      <td>-0.768909</td>\n",
              "      <td>0.253732</td>\n",
              "      <td>-0.592687</td>\n",
              "      <td>-0.764464</td>\n",
              "      <td>3.283553</td>\n",
              "      <td>3.402909</td>\n",
              "      <td>1.915897</td>\n",
              "      <td>1.451707</td>\n",
              "      <td>2.867383</td>\n",
              "      <td>4.910919</td>\n",
              "      <td>0.326373</td>\n",
              "      <td>-0.110409</td>\n",
              "      <td>0.286593</td>\n",
              "      <td>-0.288378</td>\n",
              "      <td>0.689702</td>\n",
              "      <td>2.744280</td>\n",
              "      <td>0.819518</td>\n",
              "      <td>1.115007</td>\n",
              "      <td>4.732680</td>\n",
              "      <td>2.047511</td>\n",
              "      <td>-0.281464</td>\n",
              "      <td>0.133984</td>\n",
              "      <td>-0.249939</td>\n",
              "      <td>-0.550021</td>\n",
              "      <td>3.394275</td>\n",
              "      <td>3.893397</td>\n",
              "      <td>1.989588</td>\n",
              "      <td>2.175786</td>\n",
              "      <td>6.046041</td>\n",
              "      <td>0.17300</td>\n",
              "    </tr>\n",
              "    <tr>\n",
              "      <th>4</th>\n",
              "      <td>1.750297</td>\n",
              "      <td>-1.151816</td>\n",
              "      <td>1.776573</td>\n",
              "      <td>1.826229</td>\n",
              "      <td>0.280372</td>\n",
              "      <td>0.539340</td>\n",
              "      <td>1.371011</td>\n",
              "      <td>1.428493</td>\n",
              "      <td>-0.009560</td>\n",
              "      <td>-0.562450</td>\n",
              "      <td>1.270543</td>\n",
              "      <td>-0.790244</td>\n",
              "      <td>1.273189</td>\n",
              "      <td>1.190357</td>\n",
              "      <td>1.483067</td>\n",
              "      <td>-0.048520</td>\n",
              "      <td>0.828471</td>\n",
              "      <td>1.144205</td>\n",
              "      <td>-0.361092</td>\n",
              "      <td>0.499328</td>\n",
              "      <td>1.298575</td>\n",
              "      <td>-1.466770</td>\n",
              "      <td>1.338539</td>\n",
              "      <td>1.220724</td>\n",
              "      <td>0.220556</td>\n",
              "      <td>-0.313395</td>\n",
              "      <td>0.613179</td>\n",
              "      <td>0.729259</td>\n",
              "      <td>-0.868353</td>\n",
              "      <td>0.07678</td>\n",
              "    </tr>\n",
              "  </tbody>\n",
              "</table>\n",
              "</div>"
            ],
            "text/plain": [
              "   mean radius  mean texture  mean perimeter  mean area  mean smoothness   \n",
              "0     1.097064     -2.073335        1.269934   0.984375         1.568466  \\\n",
              "1     1.829821     -0.353632        1.685955   1.908708        -0.826962   \n",
              "2     1.579888      0.456187        1.566503   1.558884         0.942210   \n",
              "3    -0.768909      0.253732       -0.592687  -0.764464         3.283553   \n",
              "4     1.750297     -1.151816        1.776573   1.826229         0.280372   \n",
              "\n",
              "   mean compactness  mean concavity  mean concave points  mean symmetry   \n",
              "0          3.283515        2.652874             2.532475       2.217515  \\\n",
              "1         -0.487072       -0.023846             0.548144       0.001392   \n",
              "2          1.052926        1.363478             2.037231       0.939685   \n",
              "3          3.402909        1.915897             1.451707       2.867383   \n",
              "4          0.539340        1.371011             1.428493      -0.009560   \n",
              "\n",
              "   mean fractal dimension  radius error  texture error  perimeter error   \n",
              "0                2.255747      2.489734      -0.565265         2.833031  \\\n",
              "1               -0.868652      0.499255      -0.876244         0.263327   \n",
              "2               -0.398008      1.228676      -0.780083         0.850928   \n",
              "3                4.910919      0.326373      -0.110409         0.286593   \n",
              "4               -0.562450      1.270543      -0.790244         1.273189   \n",
              "\n",
              "   area error  smoothness error  compactness error  concavity error   \n",
              "0    2.487578         -0.214002           1.316862         0.724026  \\\n",
              "1    0.742402         -0.605351          -0.692926        -0.440780   \n",
              "2    1.181336         -0.297005           0.814974         0.213076   \n",
              "3   -0.288378          0.689702           2.744280         0.819518   \n",
              "4    1.190357          1.483067          -0.048520         0.828471   \n",
              "\n",
              "   concave points error  symmetry error  fractal dimension error   \n",
              "0              0.660820        1.148757                 0.907083  \\\n",
              "1              0.260162       -0.805450                -0.099444   \n",
              "2              1.424827        0.237036                 0.293559   \n",
              "3              1.115007        4.732680                 2.047511   \n",
              "4              1.144205       -0.361092                 0.499328   \n",
              "\n",
              "   worst radius  worst texture  worst perimeter  worst area  worst smoothness   \n",
              "0      1.886690      -1.359293         2.303601    2.001237          1.307686  \\\n",
              "1      1.805927      -0.369203         1.535126    1.890489         -0.375612   \n",
              "2      1.511870      -0.023974         1.347475    1.456285          0.527407   \n",
              "3     -0.281464       0.133984        -0.249939   -0.550021          3.394275   \n",
              "4      1.298575      -1.466770         1.338539    1.220724          0.220556   \n",
              "\n",
              "   worst compactness  worst concavity  worst concave points  worst symmetry   \n",
              "0           2.616665         2.109526              2.296076        2.750622  \\\n",
              "1          -0.430444        -0.146749              1.087084       -0.243890   \n",
              "2           1.082932         0.854974              1.955000        1.152255   \n",
              "3           3.893397         1.989588              2.175786        6.046041   \n",
              "4          -0.313395         0.613179              0.729259       -0.868353   \n",
              "\n",
              "   worst fractal dimension  \n",
              "0                  0.11890  \n",
              "1                  0.08902  \n",
              "2                  0.08758  \n",
              "3                  0.17300  \n",
              "4                  0.07678  "
            ]
          },
          "execution_count": 14,
          "metadata": {},
          "output_type": "execute_result"
        }
      ],
      "source": [
        "feature_columns = df1.columns[:-1]\n",
        "\n",
        "scaler = StandardScaler()\n",
        "\n",
        "df1[feature_columns] = scaler.fit_transform(df1[feature_columns])\n",
        "df1.head()"
      ]
    },
    {
      "cell_type": "markdown",
      "id": "ecf1add9",
      "metadata": {
        "id": "ecf1add9"
      },
      "source": [
        "2d)\tSplit the data into training and testing datasets and train the model.\n"
      ]
    },
    {
      "cell_type": "code",
      "execution_count": null,
      "id": "5fde7eec",
      "metadata": {
        "colab": {
          "base_uri": "https://localhost:8080/"
        },
        "id": "5fde7eec",
        "outputId": "f06ddbfa-850d-4f3f-d3e0-a624d2178dec"
      },
      "outputs": [
        {
          "name": "stdout",
          "output_type": "stream",
          "text": [
            "Shape of X_train: (398, 29)\n",
            "Shape of X_test: (171, 29)\n",
            "Shape of y_train: (398,)\n",
            "Shape of y_test: (171,)\n"
          ]
        }
      ],
      "source": [
        "X1 = df1.iloc[:,0:-1]\n",
        "y1 = df1.iloc[:,-1]\n",
        "\n",
        "X_train1, X_test1, y_train1, y_test1 = train_test_split(X1, y1, test_size=0.3, random_state=1234)\n",
        "\n",
        "print(\"Shape of X_train:\", X_train1.shape)\n",
        "print(\"Shape of X_test:\", X_test1.shape)\n",
        "print(\"Shape of y_train:\", y_train1.shape)\n",
        "print(\"Shape of y_test:\", y_test1.shape)"
      ]
    },
    {
      "cell_type": "code",
      "execution_count": null,
      "id": "K4pPVlj0HUIF",
      "metadata": {
        "id": "K4pPVlj0HUIF"
      },
      "outputs": [],
      "source": [
        "scaler = StandardScaler()\n",
        "\n",
        "#fit_transform() method combines the functionalities of both fit() and transform() methods in one step\n",
        "X_train1 = scaler.fit_transform(X_train1)\n",
        "\n",
        "#transform() method helps in transforming the data into a form that is more suitable for the model.\n",
        "X_test1 = scaler.transform(X_test1)\n"
      ]
    },
    {
      "cell_type": "markdown",
      "id": "7d8e64db",
      "metadata": {
        "id": "7d8e64db"
      },
      "source": [
        "Given the ROC curve and the optimal threshold.\n"
      ]
    },
    {
      "cell_type": "code",
      "execution_count": null,
      "id": "23952b24",
      "metadata": {
        "colab": {
          "base_uri": "https://localhost:8080/",
          "height": 564
        },
        "id": "23952b24",
        "outputId": "1df817c0-fbd0-472b-830e-1caa610e6d03"
      },
      "outputs": [
        {
          "data": {
            "image/png": "[encoded data removed]",
            "text/plain": [
              "<Figure size 800x600 with 1 Axes>"
            ]
          },
          "metadata": {},
          "output_type": "display_data"
        }
      ],
      "source": [
        "import numpy as np\n",
        "import matplotlib.pyplot as plt\n",
        "from sklearn.preprocessing import StandardScaler\n",
        "from sklearn.metrics import roc_curve, auc\n",
        "from sklearn.linear_model import LinearRegression\n",
        "import seaborn as sns\n",
        "\n",
        "linear_reg = LinearRegression()\n",
        "linear_reg.fit(X_train1, y_train1)\n",
        "\n",
        "# Predict the probabilities for the test data\n",
        "#y_scores = log_reg.predict_proba(X_test1)[:, 1]  # Get probabilities for the positive class\n",
        "\n",
        "# Compute ROC curve and ROC area\n",
        "#fpr, tpr, thresholds = roc_curve(y_test1, y_scores)\n",
        "#roc_auc = auc(fpr, tpr)\n",
        "\n",
        "# Plotting the ROC curve\n",
        "#plt.figure()\n",
        "#plt.plot(fpr, tpr, color='darkorange', lw=2, label='ROC curve (area = %0.2f)' % roc_auc)\n",
        "#plt.plot([0, 1], [0, 1], color='navy', lw=2, linestyle='--')\n",
        "#plt.xlim([0.0, 1.0])\n",
        "#plt.ylim([0.0, 1.05])\n",
        "#plt.xlabel('False Positive Rate')\n",
        "#plt.ylabel('True Positive Rate')\n",
        "#plt.title('Receiver Operating Characteristic')\n",
        "#plt.legend(loc=\"lower right\")\n",
        "#plt.show()\n",
        "y_pred = linear_reg.predict(X_test1)\n",
        "\n",
        "# Create a scatter plot of predicted vs actual values\n",
        "plt.figure(figsize=(8, 6))\n",
        "sns.scatterplot(x=y_test1, y=y_pred)\n",
        "plt.xlabel('Actual Values')\n",
        "plt.ylabel('Predicted Values')\n",
        "plt.title('Scatter Plot of Predicted vs Actual Values')\n",
        "plt.show()\n",
        "\n",
        "# Calculate the distance to the top-left corner for each point on the ROC curve\n",
        "#distances = np.sqrt((1 - tpr)**2 + fpr**2)\n",
        "\n",
        "# Find the optimal threshold: the one with the minimum distance\n",
        "#min_idx = np.argmin(distances)\n",
        "#optimal_threshold = thresholds[min_idx]\n",
        "\n",
        "#print(\"Optimal threshold (closest to top-left):\", optimal_threshold)"
      ]
    },
    {
      "cell_type": "code",
      "execution_count": null,
      "id": "bb787386",
      "metadata": {
        "id": "bb787386"
      },
      "outputs": [],
      "source": []
    },
    {
      "cell_type": "markdown",
      "id": "1c814872",
      "metadata": {
        "id": "1c814872"
      },
      "source": [
        "2e) Calculate the confusion matrix with the optimal threshold."
      ]
    },
    {
      "cell_type": "code",
      "execution_count": null,
      "id": "984bedf5",
      "metadata": {
        "id": "984bedf5"
      },
      "outputs": [],
      "source": [
        "from sklearn.metrics import confusion_matrix\n",
        "\n"
      ]
    },
    {
      "cell_type": "markdown",
      "id": "6825119b",
      "metadata": {
        "id": "6825119b"
      },
      "source": [
        "Q3. Fit a decision tree model for the sklearn dataset diabetes. You have to consider the following items:\n",
        "3a)\tSplit the data into training and testing datasets.\n",
        "\n",
        "Note: This question is only testing if you know how to perform Decision Tree. Error rate is not considered in this question.\n",
        "Part of the code will be provided to you."
      ]
    },
    {
      "cell_type": "code",
      "execution_count": null,
      "id": "fcfd8bb9",
      "metadata": {
        "id": "fcfd8bb9"
      },
      "outputs": [],
      "source": [
        "from sklearn import datasets\n",
        "from sklearn import datasets\n",
        "data = datasets.load_diabetes()\n",
        "pd.set_option('display.max_columns', None)\n",
        "df2 = pd.DataFrame(data.data, columns=data.feature_names)\n",
        "\n",
        "df2"
      ]
    },
    {
      "cell_type": "code",
      "execution_count": null,
      "id": "uiNb6tPJM3R3",
      "metadata": {
        "id": "uiNb6tPJM3R3"
      },
      "outputs": [],
      "source": [
        "#splitting the data\n",
        "X2 = df2.iloc[:,0:-1]\n",
        "y2 = df2.iloc[:,-1]\n",
        "\n",
        "X_train2, X_test2, y_train2, y_test2 = train_test_split(X2, y2, test_size=0.2, random_state=42)\n",
        "\n",
        "print(\"Shape of X_train:\", X_train2.shape)\n",
        "print(\"Shape of X_test:\", X_test2.shape)\n",
        "print(\"Shape of y_train:\", y_train2.shape)\n",
        "print(\"Shape of y_test:\", y_test2.shape)\n"
      ]
    },
    {
      "cell_type": "code",
      "execution_count": null,
      "id": "gTy99pXAMrLZ",
      "metadata": {
        "id": "gTy99pXAMrLZ"
      },
      "outputs": [],
      "source": [
        "print(\"Unique values in y_train2:\", np.unique(y_train2))\n"
      ]
    },
    {
      "cell_type": "markdown",
      "id": "cdc921a6",
      "metadata": {
        "id": "cdc921a6"
      },
      "source": [
        "3b)\tUse Info Gain (Entropy) to build the model and calculate the confusion matrix.\n"
      ]
    },
    {
      "cell_type": "code",
      "execution_count": null,
      "id": "71ee879c",
      "metadata": {
        "id": "71ee879c"
      },
      "outputs": [],
      "source": [
        "#Importing the Decision tree classifier from the sklearn library.\n",
        "from sklearn.tree import DecisionTreeRegressor\n",
        "from sklearn.metrics import accuracy_score, classification_report, confusion_matrix\n",
        "from sklearn import tree\n",
        "\n",
        "dt_classifier_val = DecisionTreeRegressor(criterion='absolute_error', random_state=42)\n",
        "\n",
        "dt_classifier_val.fit(X_train2, y_train2)\n",
        "\n",
        "y_pred2 = dt_classifier_val.predict(X_test2)\n",
        "\n",
        "accuracy_val = accuracy_score(y_test2, y_pred2)\n",
        "conf_matrix_val = confusion_matrix(y_test2, y_pred2)\n",
        "class_report_val = classification_report(y_test2, y_pred2)\n",
        "\n",
        "print(\"Accuracy:\", accuracy_val)\n",
        "print(\"Confusion Matrix:\\n\", conf_matrix_val)\n",
        "print(\"Classification Report:\\n\", class_report_val)\n",
        "\n",
        "plt.figure(figsize=(15, 10))\n",
        "tree.plot_tree(dt_classifier_val, filled=True, feature_names=X2.columns, class_names=True, rounded=True)\n",
        "plt.show()\n",
        "\n"
      ]
    },
    {
      "cell_type": "code",
      "execution_count": null,
      "id": "adGXHlGLN_Xk",
      "metadata": {
        "id": "adGXHlGLN_Xk"
      },
      "outputs": [],
      "source": [
        "\n",
        "\n",
        "#Predicting labels on the test set.\n",
        "\n",
        "\n",
        "# confusion matrix\n",
        "from sklearn.metrics import confusion_matrix"
      ]
    },
    {
      "cell_type": "markdown",
      "id": "b4dd50c3",
      "metadata": {
        "id": "b4dd50c3"
      },
      "source": [
        "3c)\tRepeat b) by using Gini-index to build the model.\n"
      ]
    },
    {
      "cell_type": "code",
      "execution_count": null,
      "id": "553cbd15",
      "metadata": {
        "id": "553cbd15"
      },
      "outputs": [],
      "source": []
    },
    {
      "cell_type": "code",
      "execution_count": null,
      "id": "197ea303",
      "metadata": {
        "id": "197ea303"
      },
      "outputs": [],
      "source": []
    },
    {
      "cell_type": "code",
      "execution_count": null,
      "id": "e009766c",
      "metadata": {
        "id": "e009766c"
      },
      "outputs": [],
      "source": []
    },
    {
      "cell_type": "code",
      "execution_count": null,
      "id": "00680259",
      "metadata": {
        "id": "00680259"
      },
      "outputs": [],
      "source": []
    }
  ],
  "metadata": {
    "colab": {
      "provenance": []
    },
    "kernelspec": {
      "display_name": "Python 3 (ipykernel)",
      "language": "python",
      "name": "python3"
    },
    "language_info": {
      "codemirror_mode": {
        "name": "ipython",
        "version": 3
      },
      "file_extension": ".py",
      "mimetype": "text/x-python",
      "name": "python",
      "nbconvert_exporter": "python",
      "pygments_lexer": "ipython3",
      "version": "3.11.1"
    }
  },
  "nbformat": 4,
  "nbformat_minor": 5
}